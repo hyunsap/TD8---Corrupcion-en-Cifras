{
 "cells": [
  {
   "cell_type": "code",
   "execution_count": null,
   "id": "107ce640",
   "metadata": {},
   "outputs": [],
   "source": [
    "import pandas as pd\n",
    "from sqlalchemy import create_engine\n",
    "print(\"✅ Kernel correcto y librerías cargadas\")"
   ]
  }
 ],
 "metadata": {
  "kernelspec": {
   "display_name": "corrupcion",
   "language": "python",
   "name": "python3"
  },
  "language_info": {
   "codemirror_mode": {
    "name": "ipython",
    "version": 3
   },
   "file_extension": ".py",
   "mimetype": "text/x-python",
   "name": "python",
   "nbconvert_exporter": "python",
   "pygments_lexer": "ipython3",
   "version": "3.11.14"
  }
 },
 "nbformat": 4,
 "nbformat_minor": 5
}
